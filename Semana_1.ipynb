{
 "cells": [
  {
   "cell_type": "markdown",
   "metadata": {},
   "source": [
    "# Introducción a Python"
   ]
  },
  {
   "cell_type": "markdown",
   "metadata": {},
   "source": [
    "## Instalación de Miniconda y uso de Jupyter. Uso de los libros. (M)"
   ]
  },
  {
   "cell_type": "markdown",
   "metadata": {},
   "source": [
    "Para instalar Python se debe primero instalar Miniconda que es un manejador de paquetes. \n",
    "    \n",
    "Pueden encontrar la versión de su sistema de operativo en https://docs.conda.io/en/latest/miniconda.html\n",
    "\n",
    "Una vez instalado ese programa, pueden usar el siguiente comando para instalar Jupyter \n",
    "\n",
    "```\n",
    "conda install -c conda-forge jupyterlab\n",
    "```\n",
    "\n",
    "Con esto ya tienes un ambiente Python en tu computadora para comenzar a trabajar los ejemplos. "
   ]
  },
  {
   "cell_type": "markdown",
   "metadata": {},
   "source": [
    "## Un recorrido rápido por la sintaxis del lenguaje Python"
   ]
  },
  {
   "cell_type": "markdown",
   "metadata": {},
   "source": [
    "Vamos a considerar un ejemplo en donde se ilustra varios aspectos básicos del lenguaje:"
   ]
  },
  {
   "cell_type": "code",
   "execution_count": 3,
   "metadata": {},
   "outputs": [
    {
     "name": "stdout",
     "output_type": "stream",
     "text": [
      "lower: [0, 1, 2, 3, 4]\n",
      "upper: [5, 6, 7, 8, 9]\n"
     ]
    }
   ],
   "source": [
    "# Se define el punto medio\n",
    "midpoint = 5\n",
    "\n",
    "# Se definen dos listas vacías\n",
    "lower = []; upper = []\n",
    "\n",
    "# Se reparte los números en las dos listas\n",
    "for i in range(10):\n",
    "    if (i < midpoint):\n",
    "        lower.append(i)\n",
    "    else:\n",
    "        upper.append(i)\n",
    "            \n",
    "print(\"lower:\",lower)\n",
    "print(\"upper:\",upper)"
   ]
  },
  {
   "cell_type": "markdown",
   "metadata": {},
   "source": [
    "Aspectos básicos:\n",
    "* Los comentarios empiezan con #. Los comentarios pueden ocupar una línea completa o bien parte de una línea de código.\n",
    "* Las asignaciones a variables se realizan con el símbolo \"=\".\n",
    "* Los finales de una declaración de código no llevan ningún símbolo especial, excepto si uno los quiere continuar en la siguiente línea: "
   ]
  },
  {
   "cell_type": "code",
   "execution_count": 21,
   "metadata": {},
   "outputs": [
    {
     "name": "stdout",
     "output_type": "stream",
     "text": [
      "36\n"
     ]
    }
   ],
   "source": [
    "x = 1 + 2 + 3 + 4 +\\\n",
    "5 + 6 + 7 + 8\n",
    "    \n",
    "print(x)"
   ]
  },
  {
   "cell_type": "markdown",
   "metadata": {},
   "source": [
    "* También se puede continuar una declaración en varias líneas usando paréntesis:"
   ]
  },
  {
   "cell_type": "code",
   "execution_count": 22,
   "metadata": {},
   "outputs": [
    {
     "name": "stdout",
     "output_type": "stream",
     "text": [
      "36\n"
     ]
    }
   ],
   "source": [
    "y = (1 + 2 + 3 + 4 +\n",
    "5 + 6 + 7 + 8)\n",
    "\n",
    "print(y)"
   ]
  },
  {
   "cell_type": "markdown",
   "metadata": {},
   "source": [
    "* Si uno quiere incluir varias declaraciones de código en una misma línea, se usa el símbolo \";\"\n",
    "* El espacio en blanco es importante cuando se usa como sangría (indentation). La sangría se usa para definir bloques de código y esta consiste normalmente en cuatro espacios en blanco (TAB). Además en Python, los bloques de código siempre son precedidos por un símbolo \":\""
   ]
  },
  {
   "cell_type": "code",
   "execution_count": 25,
   "metadata": {},
   "outputs": [
    {
     "name": "stdout",
     "output_type": "stream",
     "text": [
      "4950\n"
     ]
    }
   ],
   "source": [
    "total = 0\n",
    "for i in range(100):\n",
    "    total += i\n",
    "print(total)"
   ]
  },
  {
   "cell_type": "markdown",
   "metadata": {},
   "source": [
    "* El espacio en blanco dentro de una declaración de código no es importante. Por aspectos de legibilidad se recomienda usar un espacio en blanco entre operadores binarios y no dejar espacios en operadores de un solo argumento."
   ]
  },
  {
   "cell_type": "code",
   "execution_count": 14,
   "metadata": {},
   "outputs": [],
   "source": [
    "x = 10 ** -2"
   ]
  },
  {
   "cell_type": "markdown",
   "metadata": {},
   "source": [
    "* Los paréntesis se usan para agrupar expresiones:"
   ]
  },
  {
   "cell_type": "code",
   "execution_count": 15,
   "metadata": {},
   "outputs": [
    {
     "data": {
      "text/plain": [
       "14"
      ]
     },
     "execution_count": 15,
     "metadata": {},
     "output_type": "execute_result"
    }
   ],
   "source": [
    " 2 * (3 + 4)"
   ]
  },
  {
   "cell_type": "markdown",
   "metadata": {},
   "source": [
    "    o bien para delimitar argumentos en una función:"
   ]
  },
  {
   "cell_type": "code",
   "execution_count": 17,
   "metadata": {},
   "outputs": [
    {
     "name": "stdout",
     "output_type": "stream",
     "text": [
      "Primer valor: 1\n"
     ]
    }
   ],
   "source": [
    "print('Primer valor:', 1)"
   ]
  },
  {
   "cell_type": "markdown",
   "metadata": {},
   "source": [
    "    aunque su uso no está limitado al uso de argumentos, por ejemplo:"
   ]
  },
  {
   "cell_type": "code",
   "execution_count": 18,
   "metadata": {},
   "outputs": [
    {
     "name": "stdout",
     "output_type": "stream",
     "text": [
      "[1, 2, 3, 4]\n"
     ]
    }
   ],
   "source": [
    "L = [4,2,3,1]\n",
    "L.sort()\n",
    "print(L)\n"
   ]
  },
  {
   "cell_type": "markdown",
   "metadata": {},
   "source": [
    "## Semántica básica de Python: Variables y objetos (M)"
   ]
  },
  {
   "cell_type": "markdown",
   "metadata": {},
   "source": [
    "Asignar variables en Python es tan sencillo como simplemente usar `=` para asignar un valor a una variable. Las variables son dinámicamente asignadas al valor que se esté asignado en el momento \n",
    "\n",
    "Por ejemplo, "
   ]
  },
  {
   "cell_type": "code",
   "execution_count": 2,
   "metadata": {},
   "outputs": [
    {
     "name": "stdout",
     "output_type": "stream",
     "text": [
      "1\n"
     ]
    }
   ],
   "source": [
    "x = 1\n",
    "print(x)"
   ]
  },
  {
   "cell_type": "code",
   "execution_count": 3,
   "metadata": {},
   "outputs": [
    {
     "name": "stdout",
     "output_type": "stream",
     "text": [
      "hello\n"
     ]
    }
   ],
   "source": [
    "x = 'hello'\n",
    "print(x)"
   ]
  },
  {
   "cell_type": "code",
   "execution_count": 4,
   "metadata": {},
   "outputs": [
    {
     "name": "stdout",
     "output_type": "stream",
     "text": [
      "[1, 2, 3]\n"
     ]
    }
   ],
   "source": [
    "x = [1, 2, 3] \n",
    "print(x)"
   ]
  },
  {
   "cell_type": "markdown",
   "metadata": {},
   "source": [
    "  \n",
    "**Nota: Recuerde que en `R` los simbolos `<-` y `=` tenían dos significados diferentes (asignar variables y en funciones). En Python la diferencia se hace dependiendo del contexto.**"
   ]
  },
  {
   "cell_type": "markdown",
   "metadata": {},
   "source": [
    "## Semántica básica de Python: Operadores (L)"
   ]
  },
  {
   "cell_type": "markdown",
   "metadata": {},
   "source": [
    "## Tipos incorporados: Valores simples y Estructuras de datos incorporadas (M)"
   ]
  }
 ],
 "metadata": {
  "kernelspec": {
   "display_name": "Python 3",
   "language": "python",
   "name": "python3"
  },
  "language_info": {
   "codemirror_mode": {
    "name": "ipython",
    "version": 3
   },
   "file_extension": ".py",
   "mimetype": "text/x-python",
   "name": "python",
   "nbconvert_exporter": "python",
   "pygments_lexer": "ipython3",
   "version": "3.6.12"
  },
  "name": "Semana_1.ipynb"
 },
 "nbformat": 4,
 "nbformat_minor": 4
}
